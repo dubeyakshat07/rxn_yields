{
 "cells": [
  {
   "cell_type": "markdown",
   "metadata": {},
   "source": [
    "# Training Regression Models on chemical reactions\n",
    "\n",
    "> Here we show how simple it is to train reaction BERTs on any regression task."
   ]
  },
  {
   "cell_type": "markdown",
   "metadata": {},
   "source": [
    "## Available tools\n",
    "\n",
    "BERT and related transformer models have revolutionised Natural Language Processing. The implementation of such models is conveniently made available through the [Huggingface Transformers](https://github.com/huggingface/transformers) library. We based already based our previous work on reaction fingerprints / classification and atom-mapping on this library. To train the yield regression models in this work, we used the [SimpleTransformers.ai](https://simpletransformers.ai), which contains all you need to add fine-tuning heads on top of transformers, run trainings and evaluations.\n",
    "\n",
    "## SmilesTokenizer\n",
    "\n",
    "One key difference compared to human languages, when compared to chemistry are the tokens and tokenizers. In this work, we use the tokenizer introduced our previous [rxnfp](https://rxn4chemistry.github.io/rxnfp/) work with the same regex as in the [Molecular Transformer](https://github.com/pschwllr/MolecularTransformer). "
   ]
  },
  {
   "cell_type": "code",
   "execution_count": null,
   "metadata": {},
   "outputs": [
    {
     "name": "stderr",
     "output_type": "stream",
     "text": [
      "\u001b[34m\u001b[1mwandb\u001b[0m: \u001b[33mWARNING\u001b[0m W&B installed but not logged in.  Run `wandb login` or set the WANDB_API_KEY env variable.\n",
      "Setting 'max_len_single_sentence' is now deprecated. This value is automatically set up.\n",
      "Setting 'max_len_sentences_pair' is now deprecated. This value is automatically set up.\n"
     ]
    },
    {
     "name": "stdout",
     "output_type": "stream",
     "text": [
      "['C', 'C', '(', 'C', ')', '[C@@H]', '(', 'C', ')', 'C', 'C', 'Br', '.', '[Na]', 'C', '#', 'N', '>>', 'C', 'C', '(', '[C@@H]', '(', 'C', ')', 'C', 'C', 'C', '#', 'N', ')', 'C']\n"
     ]
    },
    {
     "data": {
      "image/png": "[encoded data removed]",
      "text/plain": [
       "<rdkit.Chem.rdChemReactions.ChemicalReaction at 0x7f7c54b47300>"
      ]
     },
     "execution_count": null,
     "metadata": {},
     "output_type": "execute_result"
    }
   ],
   "source": [
    "from rxnfp.tokenization import get_default_tokenizer, SmilesTokenizer\n",
    "from rdkit.Chem import rdChemReactions\n",
    "\n",
    "smiles_tokenizer = get_default_tokenizer()\n",
    "\n",
    "reaction_smiles = 'CC(C)[C@@H](C)CCBr.[Na]C#N>>CC([C@@H](C)CCC#N)C'\n",
    "rxn = rdChemReactions.ReactionFromSmarts(reaction_smiles,useSmiles=True)\n",
    "\n",
    "print(smiles_tokenizer.tokenize(reaction_smiles))\n",
    "rxn"
   ]
  },
  {
   "cell_type": "markdown",
   "metadata": {},
   "source": [
    "As the tokenizer is normally hard-coded in the SimpleTransformers library we need to change it, we therefore create a `SmilesClassificationModel` class, as seen in the `core` module. \n",
    "\n",
    "```python\n",
    "MODEL_CLASSES = {\n",
    "            \"bert\": (BertConfig, BertForSequenceClassification, SmilesTokenizer),\n",
    "        }\n",
    "```\n",
    "\n",
    "Once this is done, the SimpleTransformers library can be used as usual. \n",
    "\n"
   ]
  },
  {
   "cell_type": "markdown",
   "metadata": {},
   "source": [
    "## Pretrained reaction BERT models\n",
    "\n",
    "There are currently two reaction BERT models in the `rxnfp` library - `pretrained` (trained with on a reaction MLM task) and `ft` (additionally trained on a reaction classification task). For this example, we will use the `pretrained` model as starting point for the training of our Yield-BERT. On the Buchwald-Hartwig reactions both base models performed similarly."
   ]
  },
  {
   "cell_type": "code",
   "execution_count": null,
   "metadata": {},
   "outputs": [
    {
     "name": "stderr",
     "output_type": "stream",
     "text": [
      "Setting 'max_len_single_sentence' is now deprecated. This value is automatically set up.\n",
      "Setting 'max_len_sentences_pair' is now deprecated. This value is automatically set up.\n"
     ]
    }
   ],
   "source": [
    "import pkg_resources\n",
    "import torch\n",
    "from rxnfp.models import SmilesClassificationModel\n",
    "model_path =  pkg_resources.resource_filename(\n",
    "                \"rxnfp\",\n",
    "                f\"models/transformers/bert_pretrained\" # change pretrained to ft to start from the other base model\n",
    ")\n",
    "yield_bert = SmilesClassificationModel('bert', model_path, use_cuda=torch.cuda.is_available())"
   ]
  },
  {
   "cell_type": "markdown",
   "metadata": {},
   "source": [
    "## Prepare the data\n",
    "\n",
    "Load the reaction SMILES and yield values into a DataFrame with columns `['text', 'labels']`.\n",
    "\n",
    "The same procedure could be applied to any reaction (or molecule) regression task."
   ]
  },
  {
   "cell_type": "code",
   "execution_count": null,
   "metadata": {},
   "outputs": [
    {
     "data": {
      "text/html": [
       "<div>\n",
       "<style scoped>\n",
       "    .dataframe tbody tr th:only-of-type {\n",
       "        vertical-align: middle;\n",
       "    }\n",
       "\n",
       "    .dataframe tbody tr th {\n",
       "        vertical-align: top;\n",
       "    }\n",
       "\n",
       "    .dataframe thead th {\n",
       "        text-align: right;\n",
       "    }\n",
       "</style>\n",
       "<table border=\"1\" class=\"dataframe\">\n",
       "  <thead>\n",
       "    <tr style=\"text-align: right;\">\n",
       "      <th></th>\n",
       "      <th>text</th>\n",
       "      <th>labels</th>\n",
       "    </tr>\n",
       "  </thead>\n",
       "  <tbody>\n",
       "    <tr>\n",
       "      <th>0</th>\n",
       "      <td>CCN=P(N=P(N(C)C)(N(C)C)N(C)C)(N(C)C)N(C)C.COc1...</td>\n",
       "      <td>1.387974</td>\n",
       "    </tr>\n",
       "    <tr>\n",
       "      <th>1</th>\n",
       "      <td>Brc1ccccn1.CCN=P(N=P(N(C)C)(N(C)C)N(C)C)(N(C)C...</td>\n",
       "      <td>-0.796876</td>\n",
       "    </tr>\n",
       "    <tr>\n",
       "      <th>2</th>\n",
       "      <td>CC(C)c1cc(C(C)C)c(-c2ccccc2P(C2CCCCC2)C2CCCCC2...</td>\n",
       "      <td>-0.827835</td>\n",
       "    </tr>\n",
       "    <tr>\n",
       "      <th>3</th>\n",
       "      <td>CCOC(=O)c1cnoc1.CN1CCCN2CCCN=C12.COc1ccc(OC)c(...</td>\n",
       "      <td>-0.464841</td>\n",
       "    </tr>\n",
       "    <tr>\n",
       "      <th>4</th>\n",
       "      <td>CN1CCCN2CCCN=C12.COc1ccc(Cl)cc1.COc1ccc(OC)c(P...</td>\n",
       "      <td>-1.186082</td>\n",
       "    </tr>\n",
       "  </tbody>\n",
       "</table>\n",
       "</div>"
      ],
      "text/plain": [
       "                                                text    labels\n",
       "0  CCN=P(N=P(N(C)C)(N(C)C)N(C)C)(N(C)C)N(C)C.COc1...  1.387974\n",
       "1  Brc1ccccn1.CCN=P(N=P(N(C)C)(N(C)C)N(C)C)(N(C)C... -0.796876\n",
       "2  CC(C)c1cc(C(C)C)c(-c2ccccc2P(C2CCCCC2)C2CCCCC2... -0.827835\n",
       "3  CCOC(=O)c1cnoc1.CN1CCCN2CCCN=C12.COc1ccc(OC)c(... -0.464841\n",
       "4  CN1CCCN2CCCN=C12.COc1ccc(Cl)cc1.COc1ccc(OC)c(P... -1.186082"
      ]
     },
     "execution_count": null,
     "metadata": {},
     "output_type": "execute_result"
    }
   ],
   "source": [
    "# data\n",
    "import pandas as pd\n",
    "from rxn_yields.data import generate_buchwald_hartwig_rxns\n",
    "df = pd.read_excel('../data/Buchwald-Hartwig/Dreher_and_Doyle_input_data.xlsx', sheet_name='FullCV_01')\n",
    "df['rxn'] = generate_buchwald_hartwig_rxns(df)\n",
    "\n",
    "train_df = df.iloc[:2767][['rxn', 'Output']] \n",
    "test_df = df.iloc[2767:][['rxn', 'Output']] #\n",
    "\n",
    "train_df.columns = ['text', 'labels']\n",
    "test_df.columns = ['text', 'labels']\n",
    "mean = train_df.labels.mean()\n",
    "std = train_df.labels.std()\n",
    "train_df['labels'] = (train_df['labels'] - mean) / std\n",
    "test_df['labels'] = (test_df['labels'] - mean) / std\n",
    "train_df.head()"
   ]
  },
  {
   "cell_type": "markdown",
   "metadata": {},
   "source": [
    "## Hyperparameter tuning\n",
    "\n",
    "Most of the hyperparameter are already fixed by the base model. Here we decided only to tune the `dropout probability` and the `learning rate`. SimpleTransformers has [wandb](https://www.wandb.com) nicely integrated. An example how to setup a hyperparameter sweep can be found in the training scripts. The wandb parameters are read using [dotenv](https://pypi.org/project/python-dotenv/).\n",
    "\n",
    "## Training\n",
    "\n",
    "As you can also be seen from the training scripts, once the data is in the right shape a training run can be started within a few lines of code. \n",
    "\n",
    "For this example we will go with the following parameters,\n",
    "> {dropout=0.7987, learning_rate=0.00009659},\n",
    "\n",
    "and launch a training. We have to reinitiate the BERT model with the correct parameters."
   ]
  },
  {
   "cell_type": "code",
   "execution_count": null,
   "metadata": {},
   "outputs": [],
   "source": [
    "# data\n",
    "model_args = {\n",
    "     'num_train_epochs': 15, 'overwrite_output_dir': True,\n",
    "    'learning_rate': 0.00009659, 'gradient_accumulation_steps': 1,\n",
    "    'regression': True, \"num_labels\":1, \"fp16\": False,\n",
    "    \"evaluate_during_training\": False, 'manual_seed': 42,\n",
    "    \"max_seq_length\": 300, \"train_batch_size\": 16,\"warmup_ratio\": 0.00,\n",
    "    \"config\" : { 'hidden_dropout_prob': 0.7987 } \n",
    "}\n",
    "\n",
    "model_path =  pkg_resources.resource_filename(\n",
    "                \"rxnfp\",\n",
    "                f\"models/transformers/bert_pretrained\" # change pretrained to ft to start from the other base model\n",
    ")\n",
    "\n",
    "yield_bert = SmilesClassificationModel(\"bert\", model_path, num_labels=1, \n",
    "                                       args=model_args, use_cuda=torch.cuda.is_available())\n",
    "\n",
    "yield_bert.train_model(train_df, output_dir=f\"outputs_buchwald_hartwig_test_project\", eval_df=test_df)"
   ]
  },
  {
   "cell_type": "markdown",
   "metadata": {},
   "source": [
    "## Predictions\n",
    "\n",
    "To load a trained model and make yield predictions. We change the `model_path` to the folder that contains the trained model and use the `predict` method. "
   ]
  },
  {
   "cell_type": "code",
   "execution_count": null,
   "metadata": {},
   "outputs": [
    {
     "name": "stderr",
     "output_type": "stream",
     "text": [
      "Setting 'max_len_single_sentence' is now deprecated. This value is automatically set up.\n",
      "Setting 'max_len_sentences_pair' is now deprecated. This value is automatically set up.\n"
     ]
    },
    {
     "data": {
      "application/vnd.jupyter.widget-view+json": {
       "model_id": "8a9f90a0be664c5a88ea07d8f7cf3b5d",
       "version_major": 2,
       "version_minor": 0
      },
      "text/plain": [
       "HBox(children=(FloatProgress(value=0.0, max=10.0), HTML(value='')))"
      ]
     },
     "metadata": {},
     "output_type": "display_data"
    },
    {
     "name": "stdout",
     "output_type": "stream",
     "text": [
      "\n"
     ]
    },
    {
     "data": {
      "application/vnd.jupyter.widget-view+json": {
       "model_id": "fbd3afbfd1194f2781cef7b0f3c828cf",
       "version_major": 2,
       "version_minor": 0
      },
      "text/plain": [
       "HBox(children=(FloatProgress(value=0.0, max=2.0), HTML(value='')))"
      ]
     },
     "metadata": {},
     "output_type": "display_data"
    },
    {
     "name": "stdout",
     "output_type": "stream",
     "text": [
      "\n",
      "Brc1ccccn1.CN(C)C(=NC(C)(C)C)N(C)C.COc1ccc(OC)c(P(C(C)(C)C)C(C)(C)C)c1-c1c(C(C)C)cc(C(C)C)cc1C(C)C.Cc1ccc(N)cc1.O=S(=O)(O[Pd]1c2ccccc2-c2ccccc2[NH2]1)C(F)(F)F.c1ccc(CN(Cc2ccccc2)c2ccno2)cc1>>Cc1ccc(Nc2ccccn2)cc1\n",
      "predicted 37.0 | 38.1 true yield\n",
      "\n",
      "Brc1cccnc1.CC(C)c1cc(C(C)C)c(-c2ccccc2P(C(C)(C)C)C(C)(C)C)c(C(C)C)c1.CCN=P(N=P(N(C)C)(N(C)C)N(C)C)(N(C)C)N(C)C.COC(=O)c1ccno1.Cc1ccc(N)cc1.O=S(=O)(O[Pd]1c2ccccc2-c2ccccc2[NH2]1)C(F)(F)F>>Cc1ccc(Nc2cccnc2)cc1\n",
      "predicted 15.4 | 14.8 true yield\n",
      "\n",
      "CCN=P(N=P(N(C)C)(N(C)C)N(C)C)(N(C)C)N(C)C.COc1ccc(OC)c(P([C@]23C[C@H]4C[C@H](C[C@H](C4)C2)C3)[C@]23C[C@H]4C[C@H](C[C@H](C4)C2)C3)c1-c1c(C(C)C)cc(C(C)C)cc1C(C)C.Cc1ccc(N)cc1.FC(F)(F)c1ccc(Br)cc1.Fc1cccc(F)c1-c1ccno1.O=S(=O)(O[Pd]1c2ccccc2-c2ccccc2[NH2]1)C(F)(F)F>>Cc1ccc(Nc2ccc(C(F)(F)F)cc2)cc1\n",
      "predicted 9.1 | 12.2 true yield\n",
      "\n",
      "CC(C)c1cc(C(C)C)c(-c2ccccc2P(C2CCCCC2)C2CCCCC2)c(C(C)C)c1.CCOC(=O)c1cc(OC)no1.CN1CCCN2CCCN=C12.Cc1ccc(N)cc1.FC(F)(F)c1ccc(Cl)cc1.O=S(=O)(O[Pd]1c2ccccc2-c2ccccc2[NH2]1)C(F)(F)F>>Cc1ccc(Nc2ccc(C(F)(F)F)cc2)cc1\n",
      "predicted 11.8 | 8.3 true yield\n",
      "\n",
      "CN1CCCN2CCCN=C12.COc1ccc(Cl)cc1.COc1ccc(OC)c(P([C@]23C[C@H]4C[C@H](C[C@H](C4)C2)C3)[C@]23C[C@H]4C[C@H](C[C@H](C4)C2)C3)c1-c1c(C(C)C)cc(C(C)C)cc1C(C)C.Cc1ccc(N)cc1.O=S(=O)(O[Pd]1c2ccccc2-c2ccccc2[NH2]1)C(F)(F)F.c1ccc(-c2ccon2)cc1>>COc1ccc(Nc2ccc(C)cc2)cc1\n",
      "predicted 6.3 | 1.1 true yield\n",
      "\n",
      "CC(C)c1cc(C(C)C)c(-c2ccccc2P(C(C)(C)C)C(C)(C)C)c(C(C)C)c1.CN1CCCN2CCCN=C12.COC(=O)c1cc(-c2ccco2)on1.COc1ccc(I)cc1.Cc1ccc(N)cc1.O=S(=O)(O[Pd]1c2ccccc2-c2ccccc2[NH2]1)C(F)(F)F>>COc1ccc(Nc2ccc(C)cc2)cc1\n",
      "predicted 45.6 | 44.4 true yield\n",
      "\n",
      "CN(C)C(=NC(C)(C)C)N(C)C.COc1ccc(I)cc1.COc1ccc(OC)c(P([C@]23C[C@H]4C[C@H](C[C@H](C4)C2)C3)[C@]23C[C@H]4C[C@H](C[C@H](C4)C2)C3)c1-c1c(C(C)C)cc(C(C)C)cc1C(C)C.Cc1ccc(N)cc1.Cc1ccon1.O=S(=O)(O[Pd]1c2ccccc2-c2ccccc2[NH2]1)C(F)(F)F>>COc1ccc(Nc2ccc(C)cc2)cc1\n",
      "predicted 46.6 | 53.4 true yield\n",
      "\n",
      "CCN=P(N=P(N(C)C)(N(C)C)N(C)C)(N(C)C)N(C)C.COc1ccc(Cl)cc1.COc1ccc(OC)c(P([C@]23C[C@H]4C[C@H](C[C@H](C4)C2)C3)[C@]23C[C@H]4C[C@H](C[C@H](C4)C2)C3)c1-c1c(C(C)C)cc(C(C)C)cc1C(C)C.Cc1ccc(N)cc1.O=S(=O)(O[Pd]1c2ccccc2-c2ccccc2[NH2]1)C(F)(F)F.c1ccc(-c2ccno2)cc1>>COc1ccc(Nc2ccc(C)cc2)cc1\n",
      "predicted 0.6 | 1.7 true yield\n",
      "\n",
      "CN(C)C(=NC(C)(C)C)N(C)C.COC(=O)c1ccno1.COc1ccc(OC)c(P(C(C)(C)C)C(C)(C)C)c1-c1c(C(C)C)cc(C(C)C)cc1C(C)C.Cc1ccc(N)cc1.FC(F)(F)c1ccc(Br)cc1.O=S(=O)(O[Pd]1c2ccccc2-c2ccccc2[NH2]1)C(F)(F)F>>Cc1ccc(Nc2ccc(C(F)(F)F)cc2)cc1\n",
      "predicted 13.9 | 10.2 true yield\n",
      "\n",
      "CC(C)c1cc(C(C)C)c(-c2ccccc2P(C2CCCCC2)C2CCCCC2)c(C(C)C)c1.CCN=P(N=P(N(C)C)(N(C)C)N(C)C)(N(C)C)N(C)C.COC(=O)c1cc(-c2cccs2)on1.COc1ccc(Cl)cc1.Cc1ccc(N)cc1.O=S(=O)(O[Pd]1c2ccccc2-c2ccccc2[NH2]1)C(F)(F)F>>COc1ccc(Nc2ccc(C)cc2)cc1\n",
      "predicted 0.5 | 0.0 true yield\n",
      "\n"
     ]
    }
   ],
   "source": [
    "# data\n",
    "model_path = '../trained_models/buchwald_hartwig/FullCV_01_split_2768/checkpoint-2595-epoch-15'\n",
    "trained_yield_bert = SmilesClassificationModel('bert', model_path,\n",
    "                                  num_labels=1, args={\n",
    "                                      \"regression\": True\n",
    "                                  }, use_cuda=torch.cuda.is_available())\n",
    "\n",
    "yield_predicted = trained_yield_bert.predict(test_df.head(10).text.values)[0]\n",
    "yield_predicted = yield_predicted * std + mean\n",
    "\n",
    "yield_true = test_df.head(10).labels.values\n",
    "yield_true = yield_true * std + mean\n",
    "\n",
    "for rxn, pred, true in zip(test_df.head(10).text.values, yield_predicted, yield_true):\n",
    "    print(rxn)\n",
    "    print(f\"predicted {pred:.1f} | {true:.1f} true yield\")\n",
    "    print()"
   ]
  },
  {
   "cell_type": "code",
   "execution_count": null,
   "metadata": {},
   "outputs": [],
   "source": []
  }
 ],
 "metadata": {
  "kernelspec": {
   "display_name": "Python 3",
   "language": "python",
   "name": "python3"
  }
 },
 "nbformat": 4,
 "nbformat_minor": 4
}
